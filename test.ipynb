{
 "cells": [
  {
   "cell_type": "code",
   "execution_count": 1,
   "metadata": {},
   "outputs": [],
   "source": [
    "#salut\n",
    "import csv\n",
    "data_encoding = 'utf-8'\n",
    "data = []\n",
    "with open('data/train.csv', 'r', encoding=data_encoding) as file:\n",
    "    reader = csv.reader(file)\n",
    "    for row in reader:\n",
    "        data.append(row)"
   ]
  },
  {
   "cell_type": "code",
   "execution_count": 2,
   "metadata": {},
   "outputs": [
    {
     "name": "stdout",
     "output_type": "stream",
     "text": [
      "titles\n",
      "L'information n'a pas été confirmée par l'intéressé qui déclare toutefois étudier la question.\n",
      "Le maire de Bordeaux ne fait plus partie des Républicains et il tient à le montrer. Lors de ses voeux à la presse, l'édile a pris ses distances avec sa famille politique historique, qu'il trouve trop proche de Marine Le Pen.\n",
      "En 2020, les tribunaux d'instance fusionnent avec ceux de grande instance pour former un unique \"tribunal judiciaire\". C'est la principale mesure de la réforme de la Justice, portée par la garde des sceaux Nicole Belloubet.\n",
      "Les médecins jugés \"gros prescripteurs d'arrêts maladie\", sont notamment pointés du doigt par le patron du Medef Geoffroy Roux de Bézieux dans une interview au Figaro.\n",
      "Il aura fallu mobiliser 90 gendarmes pour cette opération d'envergure menée en Gironde, dans le Var et dans les Pyrénées-Orientales mardi. Dix personnes ont été arrêtées, soupçonnées d'avoir participé à une escroquerie \"d'ampleur\" sur des voitures de luxe.\n",
      "Les échanges de tirs ont eu lieu alors que les gendarmes tentaient de contrôler un véhicule.\n",
      "Marine Le Pen a prévu de se rendre sur l'Île-de-Sein ce jeudi pour célébrer l'appel du 18 juin. Le maire a déploré que la venue de la présidente du Rassemblement national perturbe la commémoration officielle.\n",
      "De la SNCF à la RATP, en passant par Air France, EDF et les avocats, les appels à la grève le 5 décembre contre la réforme des retraites s'accumulent. À tel point que dans l'entourage d'Emmanuel Macron, on l'appelle le \"mur du 5 décembre\".\n",
      "L'accident de voiture qui a coûté la vie à cinq enfants lundi soir sur l'A7 dans la Drôme a été causé par la casse du turbo du véhicule. L'avocat de la famille, Me Nicolas Cellupica, met en cause le constructeur Renault.\n"
     ]
    }
   ],
   "source": [
    "count = 0\n",
    "for row in data:\n",
    "    count += 1\n",
    "    print(row[1])\n",
    "    if count == 10:\n",
    "        break"
   ]
  },
  {
   "cell_type": "code",
   "execution_count": 3,
   "metadata": {},
   "outputs": [
    {
     "name": "stdout",
     "output_type": "stream",
     "text": [
      "Average Rouge-L F-Score with LEAD-1:  0.1535873817959459\n",
      "Average Rouge-L F-Score with EXT-ORACLE: 0.31354067145919595\n"
     ]
    }
   ],
   "source": [
    "from operator import itemgetter\n",
    "import pandas as pd\n",
    "from rouge_score import rouge_scorer\n",
    "\n",
    "# Read the validation data\n",
    "validation_df = pd.read_csv('data/validation.csv')\n",
    "\n",
    "rouge_scores = []\n",
    "# Initialize Rouge Scorer\n",
    "scorer = rouge_scorer.RougeScorer(['rougeL'])\n",
    "\n",
    "# Function that generates summaries using LEAD-N\n",
    "def lead_summary(text: pd.core.series.Series, titles: pd.core.series.Series, scorer: rouge_scorer.RougeScorer):\n",
    "    summaries = []\n",
    "    for idx, row in text.items():\n",
    "        sentences = row.split(\".\")\n",
    "        summaries.append([idx, sentences[0] + \".\"])\n",
    "    return summaries\n",
    "\n",
    "# Function that generates summaries using EXT-ORACLE\n",
    "def ext_oracle_summary(text: pd.core.series.Series, titles: pd.core.series.Series, scorer: rouge_scorer.RougeScorer):\n",
    "    summaries = []\n",
    "    for idx, row in text.items():\n",
    "        sentences = row.split(\".\")\n",
    "        reference = titles.iloc[idx]\n",
    "        rs = [scorer.score(sentence, reference)['rougeL'][2] for sentence in sentences]\n",
    "        index, element = max(enumerate(rs), key=itemgetter(1))\n",
    "        summaries.append([idx, sentences[index]])  \n",
    "    return summaries\n",
    "    \n",
    "lead_summaries = lead_summary(validation_df['text'], validation_df['titles'], scorer)\n",
    "ext_oracle_summaries = ext_oracle_summary(validation_df['text'], validation_df['titles'], scorer)\n",
    "\n",
    "lead_rouge = []\n",
    "ext_oracle_rouge = []\n",
    "# Calculate the rouge-l score for each of the generated summaries compared to the original titles\n",
    "for idx, title in validation_df['titles'].items():\n",
    "    lead_rouge.append(scorer.score(lead_summaries[idx][1], title)['rougeL'][2])\n",
    "    ext_oracle_rouge.append(scorer.score(ext_oracle_summaries[idx][1], title)['rougeL'][2])\n",
    "\n",
    "avg_rouge_score_lead = sum(lead_rouge) / len(lead_rouge)\n",
    "avg_rouge_score_ext_oracle = sum(ext_oracle_rouge) / len(ext_oracle_rouge)\n",
    "\n",
    "print(\"Average Rouge-L F-Score with LEAD-1: \", avg_rouge_score_lead)\n",
    "print(\"Average Rouge-L F-Score with EXT-ORACLE:\", avg_rouge_score_ext_oracle)\n",
    "\n",
    "# Store the generated summaries in the Kaggle-accepted format\n",
    "lead_submission_df = pd.DataFrame(lead_summaries, columns=['ID', 'titles'])\n",
    "ext_oracle_submission_df = pd.DataFrame(ext_oracle_summaries, columns=['ID', 'titles'])\n",
    "lead_submission_df.to_csv('result/lead_submission.csv', index=False)\n",
    "ext_oracle_submission_df.to_csv('result/ext_oracle_submission.csv', index=False)"
   ]
  },
  {
   "cell_type": "code",
   "execution_count": 4,
   "metadata": {},
   "outputs": [],
   "source": [
    "validation_df = pd.read_csv('data/test_text.csv')\n",
    "def lead_summary(text: pd.core.series.Series):\n",
    "    summaries = []\n",
    "    for idx, row in text.items():\n",
    "        sentences = row.split(\".\")\n",
    "        summaries.append([idx, sentences[0] + \".\"])\n",
    "    return summaries\n",
    "\n",
    "lead_summaries = lead_summary(validation_df['text'])\n",
    "lead_submission_df = pd.DataFrame(lead_summaries, columns=['ID', 'titles'])\n",
    "lead_submission_df.to_csv('result/lead_submission_test.csv', index=False)"
   ]
  },
  {
   "cell_type": "code",
   "execution_count": 5,
   "metadata": {},
   "outputs": [],
   "source": [
    "from sentence_transformers import SentenceTransformer\n",
    "\n",
    "bert = SentenceTransformer('all-MiniLM-L6-v2')"
   ]
  },
  {
   "cell_type": "code",
   "execution_count": 14,
   "metadata": {},
   "outputs": [],
   "source": [
    "import numpy as np\n",
    "\n",
    "def compare_embeddings(text: str, sentences: list, model: SentenceTransformer):\n",
    "    text_embedding = model.encode([text])\n",
    "    sentence_embeddings = model.encode(sentences)\n",
    "    similarities = np.dot(text_embedding[0], sentence_embeddings.T) / (np.linalg.norm(text_embedding) * np.linalg.norm(sentence_embeddings, axis=1))\n",
    "    return similarities\n",
    "\n",
    "def ext_abs_summary(text: pd.core.series.Series, model: SentenceTransformer, scorer: rouge_scorer.RougeScorer):\n",
    "    summaries = []\n",
    "    for idx, row in text.items():\n",
    "        sentences = row.split(\".\")\n",
    "        similarities = compare_embeddings(row, sentences, model)\n",
    "        index, element = max(enumerate(similarities), key=itemgetter(1))\n",
    "        summaries.append([idx, sentences[index]])\n",
    "    return summaries\n"
   ]
  },
  {
   "cell_type": "code",
   "execution_count": 15,
   "metadata": {},
   "outputs": [
    {
     "name": "stdout",
     "output_type": "stream",
     "text": [
      "Average Rouge-L F-Score with EXT-ABS: 0.17171696791807112\n"
     ]
    }
   ],
   "source": [
    "validation_df = pd.read_csv('data/validation.csv')\n",
    "scorer = rouge_scorer.RougeScorer(['rougeL'])\n",
    "ext_abs_summaries = ext_abs_summary(validation_df['text'], bert, scorer)\n",
    "ext_abs_rouge = []\n",
    "for idx, title in validation_df['titles'].items():\n",
    "    ext_abs_rouge.append(scorer.score(ext_abs_summaries[idx][1], title)['rougeL'][2])\n",
    "\n",
    "avg_rouge_score_ext_abs = sum(ext_abs_rouge) / len(ext_abs_rouge)\n",
    "print(\"Average Rouge-L F-Score with EXT-ABS:\", avg_rouge_score_ext_abs)"
   ]
  }
 ],
 "metadata": {
  "kernelspec": {
   "display_name": "Python 3",
   "language": "python",
   "name": "python3"
  },
  "language_info": {
   "codemirror_mode": {
    "name": "ipython",
    "version": 3
   },
   "file_extension": ".py",
   "mimetype": "text/x-python",
   "name": "python",
   "nbconvert_exporter": "python",
   "pygments_lexer": "ipython3",
   "version": "3.11.8"
  }
 },
 "nbformat": 4,
 "nbformat_minor": 2
}
